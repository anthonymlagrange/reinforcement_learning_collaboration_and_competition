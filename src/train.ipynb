{
 "cells": [
  {
   "cell_type": "markdown",
   "metadata": {},
   "source": [
    "# TRAIN\n",
    "# Project 3: Collaboration and Competition\n",
    "## Udacity Deep Reinforcement Learning Nanodegree"
   ]
  },
  {
   "cell_type": "markdown",
   "metadata": {},
   "source": [
    "### Preliminaries"
   ]
  },
  {
   "cell_type": "markdown",
   "metadata": {},
   "source": [
    "Import required dependencies:"
   ]
  },
  {
   "cell_type": "code",
   "execution_count": 1,
   "metadata": {},
   "outputs": [
    {
     "name": "stderr",
     "output_type": "stream",
     "text": [
      "/home/ubuntu/anaconda3/envs/pytorch_p36/lib/python3.6/site-packages/matplotlib/__init__.py:1067: UserWarning: Duplicate key in file \"/home/ubuntu/.config/matplotlib/matplotlibrc\", line #2\n",
      "  (fname, cnt))\n",
      "/home/ubuntu/anaconda3/envs/pytorch_p36/lib/python3.6/site-packages/matplotlib/__init__.py:1067: UserWarning: Duplicate key in file \"/home/ubuntu/.config/matplotlib/matplotlibrc\", line #3\n",
      "  (fname, cnt))\n"
     ]
    }
   ],
   "source": [
    "from agent_controller import AgentController\n",
    "from collections import deque\n",
    "import matplotlib.pyplot as plt\n",
    "import numpy as np\n",
    "import time\n",
    "from unityagents import UnityEnvironment"
   ]
  },
  {
   "cell_type": "code",
   "execution_count": 2,
   "metadata": {},
   "outputs": [],
   "source": [
    "plt.rcParams['figure.figsize'] = (12, 8)"
   ]
  },
  {
   "cell_type": "markdown",
   "metadata": {},
   "source": [
    "## The environment"
   ]
  },
  {
   "cell_type": "markdown",
   "metadata": {},
   "source": [
    "Instantiate the environment and obtain aspects of it."
   ]
  },
  {
   "cell_type": "code",
   "execution_count": 3,
   "metadata": {},
   "outputs": [],
   "source": [
    "environment_path = '../Tennis_Linux_NoVis/Tennis.x86_64'"
   ]
  },
  {
   "cell_type": "code",
   "execution_count": 4,
   "metadata": {},
   "outputs": [
    {
     "name": "stderr",
     "output_type": "stream",
     "text": [
      "INFO:unityagents:\n",
      "'Academy' started successfully!\n",
      "Unity Academy name: Academy\n",
      "        Number of Brains: 1\n",
      "        Number of External Brains : 1\n",
      "        Lesson number : 0\n",
      "        Reset Parameters :\n",
      "\t\t\n",
      "Unity brain name: TennisBrain\n",
      "        Number of Visual Observations (per agent): 0\n",
      "        Vector Observation space type: continuous\n",
      "        Vector Observation space size (per agent): 8\n",
      "        Number of stacked Vector Observation: 3\n",
      "        Vector Action space type: continuous\n",
      "        Vector Action space size (per agent): 2\n",
      "        Vector Action descriptions: , \n"
     ]
    }
   ],
   "source": [
    "env = UnityEnvironment(file_name=environment_path)"
   ]
  },
  {
   "cell_type": "code",
   "execution_count": 5,
   "metadata": {},
   "outputs": [
    {
     "name": "stdout",
     "output_type": "stream",
     "text": [
      "agents_n: 2\n",
      "state_shape_all: (2, 24)\n",
      "state_shape_single: 24\n",
      "action_shape_all: (2, 2)\n",
      "action_shape_single: 2\n"
     ]
    }
   ],
   "source": [
    "brain_name = env.brain_names[0]\n",
    "brain = env.brains[brain_name]\n",
    "\n",
    "env_info = env.reset(train_mode=True)[brain_name]\n",
    "agents_n = len(env_info.agents)\n",
    "print(f'agents_n: {agents_n}')\n",
    "\n",
    "assert agents_n == 2\n",
    "\n",
    "action_shape_single = brain.vector_action_space_size\n",
    "action_shape_all = (agents_n, action_shape_single)\n",
    "\n",
    "states = env_info.vector_observations\n",
    "state_shape_all = states.shape\n",
    "state_shape_single = state_shape_all[1]\n",
    "\n",
    "print(f'state_shape_all: {state_shape_all}')\n",
    "print(f'state_shape_single: {state_shape_single}')\n",
    "\n",
    "print(f'action_shape_all: {action_shape_all}')\n",
    "print(f'action_shape_single: {action_shape_single}')\n",
    "\n",
    "del env_info\n",
    "del states"
   ]
  },
  {
   "cell_type": "markdown",
   "metadata": {},
   "source": [
    "## The agent controller"
   ]
  },
  {
   "cell_type": "markdown",
   "metadata": {},
   "source": [
    "The agent controller implements [MADDPG](https://arxiv.org/abs/1706.02275). This approach does *not* give special consideration to the symmetry that exists between the agents in the game."
   ]
  },
  {
   "cell_type": "code",
   "execution_count": 6,
   "metadata": {},
   "outputs": [],
   "source": [
    "def get_agent_controller():\n",
    "    return AgentController(\n",
    "        agents_n = agents_n,    \n",
    "        state_shape_all=state_shape_all, \n",
    "        action_shape_all=action_shape_all, \n",
    "        buffer_size=int(1e6),\n",
    "        buffer_size_before_learning=500,\n",
    "        update_every=1,    \n",
    "        epochs_n=3,\n",
    "        batch_size=256,\n",
    "        noise_weight_start=1,\n",
    "        noise_weight_factor=0.999,\n",
    "        noise_weight_min=0.1,\n",
    "        gamma=0.99,\n",
    "        tau=0.01,\n",
    "        actor_learning_rate=3e-4,\n",
    "        critic_learning_rate=3e-4\n",
    "    )"
   ]
  },
  {
   "cell_type": "code",
   "execution_count": 7,
   "metadata": {},
   "outputs": [],
   "source": [
    "agent_controller_1 = get_agent_controller()"
   ]
  },
  {
   "cell_type": "markdown",
   "metadata": {},
   "source": [
    "## The environment-agent interaction"
   ]
  },
  {
   "cell_type": "markdown",
   "metadata": {},
   "source": [
    "Define the success criteria."
   ]
  },
  {
   "cell_type": "code",
   "execution_count": 8,
   "metadata": {},
   "outputs": [],
   "source": [
    "SOLVED_SCORE = 0.5\n",
    "WINDOW_SIZE = 100"
   ]
  },
  {
   "cell_type": "markdown",
   "metadata": {},
   "source": [
    "Wrap the code that performs training over opisodes:"
   ]
  },
  {
   "cell_type": "code",
   "execution_count": 9,
   "metadata": {},
   "outputs": [],
   "source": [
    "VERBOSE = True"
   ]
  },
  {
   "cell_type": "code",
   "execution_count": 10,
   "metadata": {},
   "outputs": [],
   "source": [
    "def run(env, brain_name, agent_controller, checkpoint_name=None):\n",
    "    \"\"\"Drives the interaction between the environment and the agent controller.\n",
    "\n",
    "    Params\n",
    "    ======\n",
    "        env: The environment.\n",
    "        brain_name: The brain name to use in the environment.\n",
    "        agent_controller: The agent controller to train.\n",
    "        checkpoint_name: If a solution is reached, the network weights are stored in a file named after this parameter.\n",
    "        \n",
    "    Returns\n",
    "    =======\n",
    "        scores: The list of scores achieved at every episode.\n",
    "        rolling_mean: A list of rolling means scores over a window of size \"WINDOW_SIZE\".\n",
    "        rolling_std: A list of rolling standard deviation scores over a window of size \"WINDOW_SIZE\".\n",
    "    \"\"\"\n",
    "\n",
    "    verbose_regularity = 100\n",
    "    max_episodes = 10000\n",
    "    max_steps = 10000    \n",
    "\n",
    "    scores = []\n",
    "    scores_window = deque(maxlen=WINDOW_SIZE)    \n",
    "    rolling_scores_mean = []    \n",
    "    rolling_scores_std = []    \n",
    "    timer_window = deque(maxlen=WINDOW_SIZE)\n",
    "    \n",
    "    def get_output_string():\n",
    "        \"\"\"A convenience function that returns a string sumarizing the agent controller's performance over the window.\n",
    "        \"\"\"\n",
    "        return f'Episode {i + 1}: score: {latest_score:.4f}; steps: {t}; mean_score: {mean_score_in_window:.4f}; std_score: {std_score_in_window:.4f}; avg_time: {np.mean(timer_window):.2f}'\n",
    "\n",
    "    #####\n",
    "\n",
    "    for i in range(max_episodes):\n",
    "        timer_start = time.process_time()\n",
    "        \n",
    "        env_info = env.reset(train_mode=True)[brain_name]\n",
    "        states = env_info.vector_observations\n",
    "        \n",
    "        latest_scores = np.zeros(agents_n)    \n",
    "        t = 0\n",
    "        while True:\n",
    "            actions = agent_controller.act(states)            \n",
    "            actions = np.clip(actions, -1, 1)                     \n",
    "            env_info = env.step(actions)[brain_name]\n",
    "            next_states = env_info.vector_observations\n",
    "            rewards = np.array(env_info.rewards)\n",
    "            dones = np.array(env_info.local_done, dtype=np.uint8)\n",
    "            agent_controller.step(states, actions, rewards, next_states, dones)\n",
    "            states = next_states\n",
    "            latest_scores += rewards\n",
    "            if np.any(dones):\n",
    "                break\n",
    "            t += 1\n",
    "\n",
    "        latest_score = np.max(latest_scores)  # Note the maximum here.\n",
    "        scores.append(latest_score)\n",
    "        scores_window.append(latest_score)        \n",
    "\n",
    "        mean_score_in_window = np.mean(scores_window)\n",
    "        std_score_in_window = np.std(scores_window)\n",
    "\n",
    "        rolling_scores_mean.append(mean_score_in_window)\n",
    "        rolling_scores_std.append(std_score_in_window)    \n",
    "\n",
    "        timer_window.append(time.process_time() - timer_start)\n",
    "\n",
    "        if VERBOSE and (i + 1) % verbose_regularity == 0:\n",
    "            print(get_output_string())\n",
    "\n",
    "        if i >= WINDOW_SIZE - 1 and mean_score_in_window >= SOLVED_SCORE:\n",
    "            if VERBOSE:\n",
    "                print(get_output_string())\n",
    "                print(f'Solved! Number of episodes required: {i - WINDOW_SIZE + 2} to {i + 1}.')\n",
    "\n",
    "            if checkpoint_name:\n",
    "                agent_controller.save(path=f'checkpoint_{checkpoint_name}')\n",
    "\n",
    "            break\n",
    "\n",
    "    return {\n",
    "        'scores': scores, \n",
    "        'rolling_mean': rolling_scores_mean, \n",
    "        'rolling_std': rolling_scores_std \n",
    "    }"
   ]
  },
  {
   "cell_type": "markdown",
   "metadata": {},
   "source": [
    "## Training the agent controller"
   ]
  },
  {
   "cell_type": "code",
   "execution_count": 11,
   "metadata": {},
   "outputs": [
    {
     "name": "stdout",
     "output_type": "stream",
     "text": [
      "Episode 100: score: 0.0000; steps: 13; mean_score: 0.0104; std_score: 0.0296; avg_time: 0.65\n",
      "Episode 200: score: 0.0000; steps: 14; mean_score: 0.0078; std_score: 0.0265; avg_time: 0.92\n",
      "Episode 300: score: 0.2000; steps: 89; mean_score: 0.0750; std_score: 0.0916; avg_time: 2.02\n",
      "Episode 400: score: 0.1000; steps: 31; mean_score: 0.0736; std_score: 0.0712; avg_time: 1.78\n",
      "Episode 500: score: 0.1000; steps: 30; mean_score: 0.0982; std_score: 0.0510; avg_time: 2.12\n",
      "Episode 600: score: 0.1000; steps: 29; mean_score: 0.0983; std_score: 0.0420; avg_time: 2.02\n",
      "Episode 700: score: 0.0000; steps: 12; mean_score: 0.1226; std_score: 0.0736; avg_time: 2.59\n",
      "Episode 800: score: 0.1000; steps: 29; mean_score: 0.3184; std_score: 0.4677; avg_time: 7.24\n",
      "Episode 841: score: 1.1000; steps: 409; mean_score: 0.5038; std_score: 0.7522; avg_time: 11.47\n",
      "Solved! Number of episodes required: 742 to 841.\n"
     ]
    }
   ],
   "source": [
    "sc_1 = run(env, brain_name, agent_controller_1, \"agent_controller\")"
   ]
  },
  {
   "cell_type": "markdown",
   "metadata": {},
   "source": [
    "## Visualized"
   ]
  },
  {
   "cell_type": "code",
   "execution_count": 12,
   "metadata": {},
   "outputs": [],
   "source": [
    "def visualise_single_training(scores, title):\n",
    "    \"\"\"Visualizes a single training of an agent controller. Specifically, the raw scores per epsiode are displayed, as well as\n",
    "    the rolling mean of scores over a window of episodes.\n",
    "    \"\"\"\n",
    "    plt.plot(scores['scores'], color='gray', label='Episode')\n",
    "    plt.plot(scores['rolling_mean'], color='blue', label='Rolling mean')\n",
    "        \n",
    "    plt.title(title)\n",
    "    plt.ylabel('score')\n",
    "    plt.xlabel('episode')\n",
    "    plt.xlim(left=0)\n",
    "    plt.axhline(y=SOLVED_SCORE, color='red', linestyle='-')\n",
    "    plt.axvline(x=len(scores) - WINDOW_SIZE, color='red', linestyle='-')\n",
    "    \n",
    "    plt.legend(loc='upper left')\n",
    "    \n",
    "    plt.show()   "
   ]
  },
  {
   "cell_type": "code",
   "execution_count": 13,
   "metadata": {},
   "outputs": [
    {
     "data": {
      "image/png": "[encoded data removed]",
      "text/plain": [
       "<Figure size 864x576 with 1 Axes>"
      ]
     },
     "metadata": {},
     "output_type": "display_data"
    }
   ],
   "source": [
    "visualise_single_training(sc_1, 'Training')"
   ]
  }
 ],
 "metadata": {
  "kernelspec": {
   "display_name": "Python [conda env:pytorch_p36]",
   "language": "python",
   "name": "conda-env-pytorch_p36-py"
  },
  "language_info": {
   "codemirror_mode": {
    "name": "ipython",
    "version": 3
   },
   "file_extension": ".py",
   "mimetype": "text/x-python",
   "name": "python",
   "nbconvert_exporter": "python",
   "pygments_lexer": "ipython3",
   "version": "3.6.5"
  }
 },
 "nbformat": 4,
 "nbformat_minor": 2
}
